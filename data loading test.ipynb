{
 "cells": [
  {
   "cell_type": "code",
   "execution_count": 21,
   "id": "c6ca9037",
   "metadata": {},
   "outputs": [
    {
     "name": "stdout",
     "output_type": "stream",
     "text": [
      "                        NAME                 JOB TITLE       DEPARTMENT  \\\n",
      "0            AARON,  ELVIA J          WATER RATE TAKER      WATER MGMNT   \n",
      "1          AARON,  JEFFERY M            POLICE OFFICER           POLICE   \n",
      "2        AARON,  KIMBERLEI R  CHIEF CONTRACT EXPEDITER  FLEET MANAGEMNT   \n",
      "3        ABAD JR,  VICENTE M         CIVIL ENGINEER IV      WATER MGMNT   \n",
      "4      ABBATACOLA,  ROBERT J       ELECTRICAL MECHANIC      WATER MGMNT   \n",
      "...                      ...                       ...              ...   \n",
      "34213      ZYMANTAS,  MARK E            POLICE OFFICER           POLICE   \n",
      "34214   ZYNIEWICZ,  ROBERT J      CONSTRUCTION LABORER      WATER MGMNT   \n",
      "34215    ZYRKOWSKI,  CARLO E            POLICE OFFICER           POLICE   \n",
      "34216        ZYSKO,  RICHARD                LIEUTENANT             FIRE   \n",
      "34217    ZYSKOWSKI,  DARIUSZ   CHIEF DATA BASE ANALYST             DoIT   \n",
      "\n",
      "      EMPLOYEE ANNUAL SALARY ESTIMATED ANNUAL SALARY MINUS FURLOUGHS  \n",
      "0                  $81000.00                               $73862.00  \n",
      "1                  $74628.00                               $74628.00  \n",
      "2                  $77280.00                               $70174.00  \n",
      "3                  $96276.00                               $96276.00  \n",
      "4                  $84032.00                               $76627.00  \n",
      "...                      ...                                     ...  \n",
      "34213              $74628.00                               $74628.00  \n",
      "34214              $73216.00                               $66764.00  \n",
      "34215              $77238.00                               $77238.00  \n",
      "34216             $101958.00                              $101958.00  \n",
      "34217             $110352.00                              $100205.00  \n",
      "\n",
      "[34218 rows x 5 columns]\n"
     ]
    }
   ],
   "source": [
    "import pandas as pd\n",
    "df=pd.read_csv(\"https://raw.githubusercontent.com/dsrscientist/DSData/master/Employees.csv\")\n",
    "print(df)"
   ]
  },
  {
   "cell_type": "code",
   "execution_count": null,
   "id": "35389bf1",
   "metadata": {},
   "outputs": [],
   "source": []
  },
  {
   "cell_type": "code",
   "execution_count": null,
   "id": "74e7cede",
   "metadata": {},
   "outputs": [],
   "source": []
  },
  {
   "cell_type": "code",
   "execution_count": null,
   "id": "97aeb277",
   "metadata": {},
   "outputs": [],
   "source": []
  },
  {
   "cell_type": "code",
   "execution_count": null,
   "id": "e86a8c58",
   "metadata": {},
   "outputs": [],
   "source": []
  },
  {
   "cell_type": "code",
   "execution_count": null,
   "id": "383ac832",
   "metadata": {},
   "outputs": [],
   "source": []
  },
  {
   "cell_type": "code",
   "execution_count": null,
   "id": "2380f3b8",
   "metadata": {},
   "outputs": [],
   "source": []
  },
  {
   "cell_type": "code",
   "execution_count": null,
   "id": "0e33f072",
   "metadata": {},
   "outputs": [],
   "source": []
  },
  {
   "cell_type": "code",
   "execution_count": null,
   "id": "ff76bbf1",
   "metadata": {},
   "outputs": [],
   "source": []
  },
  {
   "cell_type": "code",
   "execution_count": null,
   "id": "df3e9c66",
   "metadata": {},
   "outputs": [],
   "source": []
  },
  {
   "cell_type": "code",
   "execution_count": null,
   "id": "7a0c09a9",
   "metadata": {},
   "outputs": [],
   "source": []
  },
  {
   "cell_type": "code",
   "execution_count": null,
   "id": "9a9b7fa1",
   "metadata": {},
   "outputs": [],
   "source": []
  },
  {
   "cell_type": "code",
   "execution_count": null,
   "id": "08927123",
   "metadata": {},
   "outputs": [],
   "source": []
  }
 ],
 "metadata": {
  "kernelspec": {
   "display_name": "Python 3",
   "language": "python",
   "name": "python3"
  },
  "language_info": {
   "codemirror_mode": {
    "name": "ipython",
    "version": 3
   },
   "file_extension": ".py",
   "mimetype": "text/x-python",
   "name": "python",
   "nbconvert_exporter": "python",
   "pygments_lexer": "ipython3",
   "version": "3.8.8"
  }
 },
 "nbformat": 4,
 "nbformat_minor": 5
}
